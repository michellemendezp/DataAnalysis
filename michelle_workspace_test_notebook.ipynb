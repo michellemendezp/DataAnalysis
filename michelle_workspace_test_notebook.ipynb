{
 "cells": [
  {
   "cell_type": "markdown",
   "id": "877f7fca",
   "metadata": {},
   "source": [
    "# Welcome to Michelle Workspace\n",
    "This is a basic notebook to test your setup and ensure everything is working correctly."
   ]
  },
  {
   "cell_type": "code",
   "execution_count": 1,
   "id": "0bce1efa",
   "metadata": {},
   "outputs": [
    {
     "name": "stdout",
     "output_type": "stream",
     "text": [
      "All libraries are imported successfully!\n"
     ]
    }
   ],
   "source": [
    "\n",
    "# Import necessary libraries\n",
    "import numpy as np\n",
    "import pandas as pd\n",
    "import matplotlib.pyplot as plt\n",
    "import seaborn as sns\n",
    "\n",
    "# Print a success message\n",
    "print(\"All libraries are imported successfully!\")\n"
   ]
  },
  {
   "cell_type": "markdown",
   "id": "dbce270c",
   "metadata": {},
   "source": [
    "## Data Manipulation with Pandas\n",
    "Here’s a quick example of creating a DataFrame and displaying it:"
   ]
  },
  {
   "cell_type": "code",
   "execution_count": 2,
   "id": "d0711431",
   "metadata": {},
   "outputs": [
    {
     "data": {
      "text/html": [
       "<div>\n",
       "<style scoped>\n",
       "    .dataframe tbody tr th:only-of-type {\n",
       "        vertical-align: middle;\n",
       "    }\n",
       "\n",
       "    .dataframe tbody tr th {\n",
       "        vertical-align: top;\n",
       "    }\n",
       "\n",
       "    .dataframe thead th {\n",
       "        text-align: right;\n",
       "    }\n",
       "</style>\n",
       "<table border=\"1\" class=\"dataframe\">\n",
       "  <thead>\n",
       "    <tr style=\"text-align: right;\">\n",
       "      <th></th>\n",
       "      <th>Name</th>\n",
       "      <th>Age</th>\n",
       "      <th>Country</th>\n",
       "    </tr>\n",
       "  </thead>\n",
       "  <tbody>\n",
       "    <tr>\n",
       "      <th>0</th>\n",
       "      <td>Alice</td>\n",
       "      <td>24</td>\n",
       "      <td>USA</td>\n",
       "    </tr>\n",
       "    <tr>\n",
       "      <th>1</th>\n",
       "      <td>Bob</td>\n",
       "      <td>27</td>\n",
       "      <td>UK</td>\n",
       "    </tr>\n",
       "    <tr>\n",
       "      <th>2</th>\n",
       "      <td>Charlie</td>\n",
       "      <td>22</td>\n",
       "      <td>Canada</td>\n",
       "    </tr>\n",
       "    <tr>\n",
       "      <th>3</th>\n",
       "      <td>Diana</td>\n",
       "      <td>32</td>\n",
       "      <td>Germany</td>\n",
       "    </tr>\n",
       "  </tbody>\n",
       "</table>\n",
       "</div>"
      ],
      "text/plain": [
       "      Name  Age  Country\n",
       "0    Alice   24      USA\n",
       "1      Bob   27       UK\n",
       "2  Charlie   22   Canada\n",
       "3    Diana   32  Germany"
      ]
     },
     "execution_count": 2,
     "metadata": {},
     "output_type": "execute_result"
    }
   ],
   "source": [
    "\n",
    "# Create a simple DataFrame\n",
    "data = {\n",
    "    'Name': ['Alice', 'Bob', 'Charlie', 'Diana'],\n",
    "    'Age': [24, 27, 22, 32],\n",
    "    'Country': ['USA', 'UK', 'Canada', 'Germany']\n",
    "}\n",
    "\n",
    "df = pd.DataFrame(data)\n",
    "df\n"
   ]
  },
  {
   "cell_type": "markdown",
   "id": "71aca014",
   "metadata": {},
   "source": [
    "## Data Visualization with Matplotlib and Seaborn\n",
    "Let’s plot a bar chart as a quick test:"
   ]
  },
  {
   "cell_type": "code",
   "execution_count": 3,
   "id": "fc3c15ff",
   "metadata": {},
   "outputs": [
    {
     "data": {
      "image/png": "[encoded data removed]",
      "text/plain": [
       "<Figure size 800x500 with 1 Axes>"
      ]
     },
     "metadata": {},
     "output_type": "display_data"
    }
   ],
   "source": [
    "\n",
    "# Plot a bar chart\n",
    "plt.figure(figsize=(8, 5))\n",
    "sns.barplot(x='Name', y='Age', data=df)\n",
    "plt.title('Age of Participants')\n",
    "plt.show()\n"
   ]
  }
 ],
 "metadata": {
  "kernelspec": {
   "display_name": "michelle-workspace-EoYdwGzE-py3.12",
   "language": "python",
   "name": "python3"
  },
  "language_info": {
   "codemirror_mode": {
    "name": "ipython",
    "version": 3
   },
   "file_extension": ".py",
   "mimetype": "text/x-python",
   "name": "python",
   "nbconvert_exporter": "python",
   "pygments_lexer": "ipython3",
   "version": "3.12.5"
  }
 },
 "nbformat": 4,
 "nbformat_minor": 5
}
