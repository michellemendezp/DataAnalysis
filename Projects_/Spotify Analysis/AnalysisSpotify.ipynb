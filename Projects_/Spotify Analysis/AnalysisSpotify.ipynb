{
 "cells": [
  {
   "cell_type": "markdown",
   "metadata": {},
   "source": [
    "# Spotify Dataset\n",
    "\n",
    "\n",
    "## Workflow Stages\n",
    "\n",
    "Some books define the workflow through the following stages:\n",
    "\n",
    "1. Define the question or problem.\n",
    "2. Acquire training and test data.\n",
    "3. Discuss, prepare, clean the data.\n",
    "4. Analyze, identify patterns, and explore the data.\n",
    "5. Model, predict, and solve the problem.\n",
    "6. Visualize, report, and present the steps for problem solving and the final solution.\n",
    "7. Provide or submit the results.\n",
    "\n",
    "\n",
    "## Goals\n",
    "\n",
    "\n",
    "To infer from a training sample set that a track is going to be likeable, our model must determine based on a given test dataset, whether these tracks in the test dataset are liked or not.\n",
    "\n",
    "\n",
    "Feature engineering broadly aims to solve the following goals:\n",
    "\n",
    "**Correlation** The problem can be addressed based on the features available within the training set. Which features within the dataset contribute significantly to our solution goal? Statistically speaking, is there a correlation between a feature and a solution goal? As feature values ​​change, does the solution state change as well, and vice versa? This can be tested for both numerical and categorical features. We may also want to determine the correlation between features other than survival for subsequent goals and workflow stages. Correlating certain features can help create, complete, or correct features.\n",
    "\n",
    "**Conversion** For the modeling stage, data preparation is required. Depending on the choice of model algorithm, all features may be required to be converted to equivalent numerical values. So, for example, converting categorical text values ​​to numerical values.\n",
    "\n",
    "**Completion** Data preparation may also require us to estimate missing values ​​within a feature. Modeling algorithms can help us to estimate missing values ​​within a feature."
   ]
  },
  {
   "cell_type": "markdown",
   "id": "ad348839",
   "metadata": {},
   "source": [
    "### Importing Libraries\n",
    "In this step, we import the necessary libraries for data analysis, visualization, and modeling."
   ]
  },
  {
   "cell_type": "code",
   "execution_count": 27,
   "metadata": {},
   "outputs": [],
   "source": [
    "# data analysis and wrangling\n",
    "import pandas as pd\n",
    "import numpy as np\n",
    "import random as rnd\n",
    "\n",
    "# visualization\n",
    "import seaborn as sns\n",
    "import matplotlib.pyplot as plt\n",
    "%matplotlib inline\n",
    "\n",
    "# machine learning\n",
    "from sklearn.linear_model import LogisticRegression\n",
    "from sklearn.svm import SVC, LinearSVC\n",
    "from sklearn.ensemble import RandomForestClassifier\n",
    "from sklearn.neighbors import KNeighborsClassifier\n",
    "from sklearn.naive_bayes import GaussianNB\n",
    "from sklearn.linear_model import Perceptron\n",
    "from sklearn.linear_model import SGDClassifier\n",
    "from sklearn.tree import DecisionTreeClassifier\n",
    "from sklearn.preprocessing import StandardScaler\n",
    "from sklearn.manifold import TSNE\n"
   ]
  },
  {
   "cell_type": "markdown",
   "id": "c41e3884",
   "metadata": {},
   "source": [
    "### **1) Loading the Dataset**\n",
    "Here, we load the Spotify dataset from a Google Drive link into a pandas DataFrame for further analysis."
   ]
  },
  {
   "cell_type": "code",
   "execution_count": 28,
   "metadata": {},
   "outputs": [],
   "source": [
    "#We import have the file in th drive so we import that\n",
    "#We view the first 5 rows\n",
    "spotify = '/Users/michellemendez/Desktop/MICHELLE-WS/DataAnalysis/Projects_/Spotify Analysis/data_playlist.csv'\n",
    "df = pd.read_csv(spotify)"
   ]
  },
  {
   "cell_type": "markdown",
   "id": "11d195de",
   "metadata": {},
   "source": [
    "### **2) Exploring the Dataset**\n",
    "\n",
    "For this EDA we are visualizing the first row, and I am taking a sample just to explore the data, after that we identify the type of data, so I can identify then as continuos or discrete, also we will identify if a variable is  informative to avoid classification process. \n",
    "\n",
    "#### What are the available variables?\n",
    "We explore the structure of the dataset by examining the available variables and their data types."
   ]
  },
  {
   "cell_type": "code",
   "execution_count": 29,
   "metadata": {},
   "outputs": [
    {
     "data": {
      "text/html": [
       "<div>\n",
       "<style scoped>\n",
       "    .dataframe tbody tr th:only-of-type {\n",
       "        vertical-align: middle;\n",
       "    }\n",
       "\n",
       "    .dataframe tbody tr th {\n",
       "        vertical-align: top;\n",
       "    }\n",
       "\n",
       "    .dataframe thead th {\n",
       "        text-align: right;\n",
       "    }\n",
       "</style>\n",
       "<table border=\"1\" class=\"dataframe\">\n",
       "  <thead>\n",
       "    <tr style=\"text-align: right;\">\n",
       "      <th></th>\n",
       "      <th>acousticness</th>\n",
       "      <th>danceability</th>\n",
       "      <th>duration</th>\n",
       "      <th>energy</th>\n",
       "      <th>instrumentalness</th>\n",
       "      <th>key</th>\n",
       "      <th>liveness</th>\n",
       "      <th>loudness</th>\n",
       "      <th>mode</th>\n",
       "      <th>speechiness</th>\n",
       "      <th>tempo</th>\n",
       "      <th>time_signature</th>\n",
       "      <th>valence</th>\n",
       "      <th>label</th>\n",
       "    </tr>\n",
       "  </thead>\n",
       "  <tbody>\n",
       "    <tr>\n",
       "      <th>0</th>\n",
       "      <td>0.713</td>\n",
       "      <td>0.514</td>\n",
       "      <td>100125</td>\n",
       "      <td>0.521</td>\n",
       "      <td>0.816000</td>\n",
       "      <td>8</td>\n",
       "      <td>0.1120</td>\n",
       "      <td>-14.835</td>\n",
       "      <td>0</td>\n",
       "      <td>0.0444</td>\n",
       "      <td>119.879</td>\n",
       "      <td>4</td>\n",
       "      <td>0.143</td>\n",
       "      <td>1</td>\n",
       "    </tr>\n",
       "    <tr>\n",
       "      <th>1</th>\n",
       "      <td>0.192</td>\n",
       "      <td>0.714</td>\n",
       "      <td>207019</td>\n",
       "      <td>0.614</td>\n",
       "      <td>0.000000</td>\n",
       "      <td>4</td>\n",
       "      <td>0.2630</td>\n",
       "      <td>-6.935</td>\n",
       "      <td>1</td>\n",
       "      <td>0.0319</td>\n",
       "      <td>123.969</td>\n",
       "      <td>4</td>\n",
       "      <td>0.582</td>\n",
       "      <td>1</td>\n",
       "    </tr>\n",
       "    <tr>\n",
       "      <th>2</th>\n",
       "      <td>0.333</td>\n",
       "      <td>0.630</td>\n",
       "      <td>216200</td>\n",
       "      <td>0.455</td>\n",
       "      <td>0.000004</td>\n",
       "      <td>5</td>\n",
       "      <td>0.1270</td>\n",
       "      <td>-9.290</td>\n",
       "      <td>1</td>\n",
       "      <td>0.0292</td>\n",
       "      <td>139.931</td>\n",
       "      <td>4</td>\n",
       "      <td>0.199</td>\n",
       "      <td>1</td>\n",
       "    </tr>\n",
       "    <tr>\n",
       "      <th>3</th>\n",
       "      <td>0.601</td>\n",
       "      <td>0.810</td>\n",
       "      <td>136413</td>\n",
       "      <td>0.221</td>\n",
       "      <td>0.210000</td>\n",
       "      <td>5</td>\n",
       "      <td>0.1840</td>\n",
       "      <td>-11.005</td>\n",
       "      <td>1</td>\n",
       "      <td>0.0429</td>\n",
       "      <td>109.960</td>\n",
       "      <td>4</td>\n",
       "      <td>0.798</td>\n",
       "      <td>1</td>\n",
       "    </tr>\n",
       "    <tr>\n",
       "      <th>4</th>\n",
       "      <td>0.883</td>\n",
       "      <td>0.465</td>\n",
       "      <td>181440</td>\n",
       "      <td>0.459</td>\n",
       "      <td>0.000173</td>\n",
       "      <td>6</td>\n",
       "      <td>0.0692</td>\n",
       "      <td>-8.137</td>\n",
       "      <td>0</td>\n",
       "      <td>0.0351</td>\n",
       "      <td>90.807</td>\n",
       "      <td>4</td>\n",
       "      <td>0.288</td>\n",
       "      <td>1</td>\n",
       "    </tr>\n",
       "  </tbody>\n",
       "</table>\n",
       "</div>"
      ],
      "text/plain": [
       "   acousticness  danceability  duration  energy  instrumentalness  key  \\\n",
       "0         0.713         0.514    100125   0.521          0.816000    8   \n",
       "1         0.192         0.714    207019   0.614          0.000000    4   \n",
       "2         0.333         0.630    216200   0.455          0.000004    5   \n",
       "3         0.601         0.810    136413   0.221          0.210000    5   \n",
       "4         0.883         0.465    181440   0.459          0.000173    6   \n",
       "\n",
       "   liveness  loudness  mode  speechiness    tempo  time_signature  valence  \\\n",
       "0    0.1120   -14.835     0       0.0444  119.879               4    0.143   \n",
       "1    0.2630    -6.935     1       0.0319  123.969               4    0.582   \n",
       "2    0.1270    -9.290     1       0.0292  139.931               4    0.199   \n",
       "3    0.1840   -11.005     1       0.0429  109.960               4    0.798   \n",
       "4    0.0692    -8.137     0       0.0351   90.807               4    0.288   \n",
       "\n",
       "   label  \n",
       "0      1  \n",
       "1      1  \n",
       "2      1  \n",
       "3      1  \n",
       "4      1  "
      ]
     },
     "execution_count": 29,
     "metadata": {},
     "output_type": "execute_result"
    }
   ],
   "source": [
    "df.head()"
   ]
  },
  {
   "cell_type": "code",
   "execution_count": 30,
   "metadata": {},
   "outputs": [
    {
     "name": "stdout",
     "output_type": "stream",
     "text": [
      "['acousticness' 'danceability' 'duration' 'energy' 'instrumentalness'\n",
      " 'key' 'liveness' 'loudness' 'mode' 'speechiness' 'tempo' 'time_signature'\n",
      " 'valence' 'label']\n"
     ]
    }
   ],
   "source": [
    "print(df.columns.values)"
   ]
  },
  {
   "cell_type": "markdown",
   "metadata": {},
   "source": [
    "#### 2.1 Variable Identification \n",
    "\n",
    "**¿What are the numerical variables?**\n",
    "\n",
    "Within the numerical characteristics, are the values ​​discrete, continuous, or based on time series? Among other things, this helps us select the appropriate charts for visualization.\n",
    "\n",
    "- Continuous: 'acousticness' 'danceability' 'duration' 'energy' 'instrumentalness'\n",
    "'liveness' 'loudness' 'speechiness' 'valence'\n",
    " - Discrete: 'label' 'mode' 'time_signature'  'key'  \n",
    "."
   ]
  },
  {
   "cell_type": "code",
   "execution_count": 31,
   "metadata": {},
   "outputs": [
    {
     "name": "stdout",
     "output_type": "stream",
     "text": [
      "<class 'pandas.core.frame.DataFrame'>\n",
      "RangeIndex: 750 entries, 0 to 749\n",
      "Data columns (total 14 columns):\n",
      " #   Column            Non-Null Count  Dtype  \n",
      "---  ------            --------------  -----  \n",
      " 0   acousticness      750 non-null    float64\n",
      " 1   danceability      750 non-null    float64\n",
      " 2   duration          750 non-null    int64  \n",
      " 3   energy            750 non-null    float64\n",
      " 4   instrumentalness  750 non-null    float64\n",
      " 5   key               750 non-null    int64  \n",
      " 6   liveness          750 non-null    float64\n",
      " 7   loudness          750 non-null    float64\n",
      " 8   mode              750 non-null    int64  \n",
      " 9   speechiness       750 non-null    float64\n",
      " 10  tempo             750 non-null    float64\n",
      " 11  time_signature    750 non-null    int64  \n",
      " 12  valence           750 non-null    float64\n",
      " 13  label             750 non-null    int64  \n",
      "dtypes: float64(9), int64(5)\n",
      "memory usage: 82.2 KB\n"
     ]
    }
   ],
   "source": [
    "df.info()"
   ]
  },
  {
   "cell_type": "markdown",
   "metadata": {},
   "source": [
    "#### 2.2 Checking for Missing Data\n",
    "We inspect the dataset for any missing, blank, or null values that may need to be addressed."
   ]
  },
  {
   "cell_type": "code",
   "execution_count": 32,
   "metadata": {},
   "outputs": [
    {
     "data": {
      "text/html": [
       "<div>\n",
       "<style scoped>\n",
       "    .dataframe tbody tr th:only-of-type {\n",
       "        vertical-align: middle;\n",
       "    }\n",
       "\n",
       "    .dataframe tbody tr th {\n",
       "        vertical-align: top;\n",
       "    }\n",
       "\n",
       "    .dataframe thead th {\n",
       "        text-align: right;\n",
       "    }\n",
       "</style>\n",
       "<table border=\"1\" class=\"dataframe\">\n",
       "  <thead>\n",
       "    <tr style=\"text-align: right;\">\n",
       "      <th></th>\n",
       "      <th>QTY nulls</th>\n",
       "    </tr>\n",
       "  </thead>\n",
       "  <tbody>\n",
       "    <tr>\n",
       "      <th>acousticness</th>\n",
       "      <td>0</td>\n",
       "    </tr>\n",
       "    <tr>\n",
       "      <th>danceability</th>\n",
       "      <td>0</td>\n",
       "    </tr>\n",
       "    <tr>\n",
       "      <th>duration</th>\n",
       "      <td>0</td>\n",
       "    </tr>\n",
       "    <tr>\n",
       "      <th>energy</th>\n",
       "      <td>0</td>\n",
       "    </tr>\n",
       "    <tr>\n",
       "      <th>instrumentalness</th>\n",
       "      <td>0</td>\n",
       "    </tr>\n",
       "    <tr>\n",
       "      <th>key</th>\n",
       "      <td>0</td>\n",
       "    </tr>\n",
       "    <tr>\n",
       "      <th>liveness</th>\n",
       "      <td>0</td>\n",
       "    </tr>\n",
       "    <tr>\n",
       "      <th>loudness</th>\n",
       "      <td>0</td>\n",
       "    </tr>\n",
       "    <tr>\n",
       "      <th>mode</th>\n",
       "      <td>0</td>\n",
       "    </tr>\n",
       "    <tr>\n",
       "      <th>speechiness</th>\n",
       "      <td>0</td>\n",
       "    </tr>\n",
       "    <tr>\n",
       "      <th>tempo</th>\n",
       "      <td>0</td>\n",
       "    </tr>\n",
       "    <tr>\n",
       "      <th>time_signature</th>\n",
       "      <td>0</td>\n",
       "    </tr>\n",
       "    <tr>\n",
       "      <th>valence</th>\n",
       "      <td>0</td>\n",
       "    </tr>\n",
       "    <tr>\n",
       "      <th>label</th>\n",
       "      <td>0</td>\n",
       "    </tr>\n",
       "  </tbody>\n",
       "</table>\n",
       "</div>"
      ],
      "text/plain": [
       "                  QTY nulls\n",
       "acousticness              0\n",
       "danceability              0\n",
       "duration                  0\n",
       "energy                    0\n",
       "instrumentalness          0\n",
       "key                       0\n",
       "liveness                  0\n",
       "loudness                  0\n",
       "mode                      0\n",
       "speechiness               0\n",
       "tempo                     0\n",
       "time_signature            0\n",
       "valence                   0\n",
       "label                     0"
      ]
     },
     "execution_count": 32,
     "metadata": {},
     "output_type": "execute_result"
    }
   ],
   "source": [
    "df.isnull().sum().to_frame('QTY nulls')"
   ]
  },
  {
   "cell_type": "markdown",
   "metadata": {},
   "source": [
    "\n",
    "\n",
    "***What are the data types?***\n",
    "\n",
    "****Important for conversion****\n",
    "\n",
    "- Nine features are floats.\n",
    "- Five features are intergers"
   ]
  },
  {
   "cell_type": "code",
   "execution_count": 33,
   "metadata": {},
   "outputs": [
    {
     "data": {
      "text/plain": [
       "(750, 14)"
      ]
     },
     "execution_count": 33,
     "metadata": {},
     "output_type": "execute_result"
    }
   ],
   "source": [
    "df.shape"
   ]
  },
  {
   "cell_type": "markdown",
   "metadata": {},
   "source": [
    "### **3) Variable Analysis**\n",
    "- Numeric: Draw conclusions about the distribution of the data.\n",
    "- Categorical: Draw conclusions about the cardinality, representation of each category, etc. \n",
    "- Composite: Can they be treated for use in the problem to be solved?"
   ]
  },
  {
   "cell_type": "markdown",
   "metadata": {},
   "source": [
    "\n",
    "#### 3.1 Variable Analysis\n",
    "\n",
    " Analyze distribution characteristics, such as mean, median, standard deviation, skewness, and kurtosis.\n",
    "Look for outliers, missing values, and data ranges.\n"
   ]
  },
  {
   "cell_type": "code",
   "execution_count": 34,
   "metadata": {},
   "outputs": [
    {
     "data": {
      "image/png": "[encoded data removed]",
      "text/plain": [
       "<Figure size 1500x1000 with 16 Axes>"
      ]
     },
     "metadata": {},
     "output_type": "display_data"
    }
   ],
   "source": [
    "import matplotlib.pyplot as plt\n",
    "\n",
    "# Plot histograms for each numerical variable\n",
    "numerical_columns = df.select_dtypes(include=['float64', 'int64']).columns\n",
    "\n",
    "# Creating histograms for numerical variables\n",
    "df[numerical_columns].hist(bins=15, figsize=(15, 10), layout=(4, 4))\n",
    "plt.tight_layout()\n",
    "plt.show()\n"
   ]
  },
  {
   "cell_type": "code",
   "execution_count": 35,
   "metadata": {},
   "outputs": [
    {
     "data": {
      "text/html": [
       "<div>\n",
       "<style scoped>\n",
       "    .dataframe tbody tr th:only-of-type {\n",
       "        vertical-align: middle;\n",
       "    }\n",
       "\n",
       "    .dataframe tbody tr th {\n",
       "        vertical-align: top;\n",
       "    }\n",
       "\n",
       "    .dataframe thead th {\n",
       "        text-align: right;\n",
       "    }\n",
       "</style>\n",
       "<table border=\"1\" class=\"dataframe\">\n",
       "  <thead>\n",
       "    <tr style=\"text-align: right;\">\n",
       "      <th></th>\n",
       "      <th>acousticness</th>\n",
       "      <th>danceability</th>\n",
       "      <th>duration</th>\n",
       "      <th>energy</th>\n",
       "      <th>instrumentalness</th>\n",
       "      <th>key</th>\n",
       "      <th>liveness</th>\n",
       "      <th>loudness</th>\n",
       "      <th>mode</th>\n",
       "      <th>speechiness</th>\n",
       "      <th>tempo</th>\n",
       "      <th>time_signature</th>\n",
       "      <th>valence</th>\n",
       "      <th>label</th>\n",
       "    </tr>\n",
       "  </thead>\n",
       "  <tbody>\n",
       "    <tr>\n",
       "      <th>count</th>\n",
       "      <td>750.000000</td>\n",
       "      <td>750.000000</td>\n",
       "      <td>750.000000</td>\n",
       "      <td>750.000000</td>\n",
       "      <td>750.000000</td>\n",
       "      <td>750.000000</td>\n",
       "      <td>750.000000</td>\n",
       "      <td>750.000000</td>\n",
       "      <td>750.000000</td>\n",
       "      <td>750.000000</td>\n",
       "      <td>750.000000</td>\n",
       "      <td>750.000000</td>\n",
       "      <td>750.000000</td>\n",
       "      <td>750.000000</td>\n",
       "    </tr>\n",
       "    <tr>\n",
       "      <th>mean</th>\n",
       "      <td>0.357394</td>\n",
       "      <td>0.596439</td>\n",
       "      <td>220112.733333</td>\n",
       "      <td>0.594188</td>\n",
       "      <td>0.100245</td>\n",
       "      <td>4.829333</td>\n",
       "      <td>0.203376</td>\n",
       "      <td>-8.509339</td>\n",
       "      <td>0.741333</td>\n",
       "      <td>0.098966</td>\n",
       "      <td>120.405761</td>\n",
       "      <td>3.902667</td>\n",
       "      <td>0.497321</td>\n",
       "      <td>0.602667</td>\n",
       "    </tr>\n",
       "    <tr>\n",
       "      <th>std</th>\n",
       "      <td>0.338405</td>\n",
       "      <td>0.172036</td>\n",
       "      <td>65587.690483</td>\n",
       "      <td>0.253301</td>\n",
       "      <td>0.259921</td>\n",
       "      <td>3.636001</td>\n",
       "      <td>0.177609</td>\n",
       "      <td>5.039488</td>\n",
       "      <td>0.438194</td>\n",
       "      <td>0.104715</td>\n",
       "      <td>28.378116</td>\n",
       "      <td>0.400091</td>\n",
       "      <td>0.239615</td>\n",
       "      <td>0.489673</td>\n",
       "    </tr>\n",
       "    <tr>\n",
       "      <th>min</th>\n",
       "      <td>0.000001</td>\n",
       "      <td>0.107000</td>\n",
       "      <td>33840.000000</td>\n",
       "      <td>0.009250</td>\n",
       "      <td>0.000000</td>\n",
       "      <td>0.000000</td>\n",
       "      <td>0.024000</td>\n",
       "      <td>-29.601000</td>\n",
       "      <td>0.000000</td>\n",
       "      <td>0.023400</td>\n",
       "      <td>55.747000</td>\n",
       "      <td>1.000000</td>\n",
       "      <td>0.033200</td>\n",
       "      <td>0.000000</td>\n",
       "    </tr>\n",
       "    <tr>\n",
       "      <th>25%</th>\n",
       "      <td>0.037150</td>\n",
       "      <td>0.480000</td>\n",
       "      <td>185490.250000</td>\n",
       "      <td>0.423250</td>\n",
       "      <td>0.000000</td>\n",
       "      <td>1.000000</td>\n",
       "      <td>0.094550</td>\n",
       "      <td>-10.173500</td>\n",
       "      <td>0.000000</td>\n",
       "      <td>0.035900</td>\n",
       "      <td>98.998000</td>\n",
       "      <td>4.000000</td>\n",
       "      <td>0.297000</td>\n",
       "      <td>0.000000</td>\n",
       "    </tr>\n",
       "    <tr>\n",
       "      <th>50%</th>\n",
       "      <td>0.244500</td>\n",
       "      <td>0.606000</td>\n",
       "      <td>215108.500000</td>\n",
       "      <td>0.631500</td>\n",
       "      <td>0.000010</td>\n",
       "      <td>5.000000</td>\n",
       "      <td>0.129000</td>\n",
       "      <td>-7.270000</td>\n",
       "      <td>1.000000</td>\n",
       "      <td>0.048750</td>\n",
       "      <td>120.104500</td>\n",
       "      <td>4.000000</td>\n",
       "      <td>0.483000</td>\n",
       "      <td>1.000000</td>\n",
       "    </tr>\n",
       "    <tr>\n",
       "      <th>75%</th>\n",
       "      <td>0.678500</td>\n",
       "      <td>0.715750</td>\n",
       "      <td>244236.750000</td>\n",
       "      <td>0.804750</td>\n",
       "      <td>0.002245</td>\n",
       "      <td>8.000000</td>\n",
       "      <td>0.264750</td>\n",
       "      <td>-5.097750</td>\n",
       "      <td>1.000000</td>\n",
       "      <td>0.113000</td>\n",
       "      <td>138.074750</td>\n",
       "      <td>4.000000</td>\n",
       "      <td>0.684500</td>\n",
       "      <td>1.000000</td>\n",
       "    </tr>\n",
       "    <tr>\n",
       "      <th>max</th>\n",
       "      <td>0.994000</td>\n",
       "      <td>0.986000</td>\n",
       "      <td>675360.000000</td>\n",
       "      <td>0.995000</td>\n",
       "      <td>0.967000</td>\n",
       "      <td>11.000000</td>\n",
       "      <td>0.979000</td>\n",
       "      <td>-0.533000</td>\n",
       "      <td>1.000000</td>\n",
       "      <td>0.721000</td>\n",
       "      <td>204.162000</td>\n",
       "      <td>5.000000</td>\n",
       "      <td>0.975000</td>\n",
       "      <td>1.000000</td>\n",
       "    </tr>\n",
       "  </tbody>\n",
       "</table>\n",
       "</div>"
      ],
      "text/plain": [
       "       acousticness  danceability       duration      energy  \\\n",
       "count    750.000000    750.000000     750.000000  750.000000   \n",
       "mean       0.357394      0.596439  220112.733333    0.594188   \n",
       "std        0.338405      0.172036   65587.690483    0.253301   \n",
       "min        0.000001      0.107000   33840.000000    0.009250   \n",
       "25%        0.037150      0.480000  185490.250000    0.423250   \n",
       "50%        0.244500      0.606000  215108.500000    0.631500   \n",
       "75%        0.678500      0.715750  244236.750000    0.804750   \n",
       "max        0.994000      0.986000  675360.000000    0.995000   \n",
       "\n",
       "       instrumentalness         key    liveness    loudness        mode  \\\n",
       "count        750.000000  750.000000  750.000000  750.000000  750.000000   \n",
       "mean           0.100245    4.829333    0.203376   -8.509339    0.741333   \n",
       "std            0.259921    3.636001    0.177609    5.039488    0.438194   \n",
       "min            0.000000    0.000000    0.024000  -29.601000    0.000000   \n",
       "25%            0.000000    1.000000    0.094550  -10.173500    0.000000   \n",
       "50%            0.000010    5.000000    0.129000   -7.270000    1.000000   \n",
       "75%            0.002245    8.000000    0.264750   -5.097750    1.000000   \n",
       "max            0.967000   11.000000    0.979000   -0.533000    1.000000   \n",
       "\n",
       "       speechiness       tempo  time_signature     valence       label  \n",
       "count   750.000000  750.000000      750.000000  750.000000  750.000000  \n",
       "mean      0.098966  120.405761        3.902667    0.497321    0.602667  \n",
       "std       0.104715   28.378116        0.400091    0.239615    0.489673  \n",
       "min       0.023400   55.747000        1.000000    0.033200    0.000000  \n",
       "25%       0.035900   98.998000        4.000000    0.297000    0.000000  \n",
       "50%       0.048750  120.104500        4.000000    0.483000    1.000000  \n",
       "75%       0.113000  138.074750        4.000000    0.684500    1.000000  \n",
       "max       0.721000  204.162000        5.000000    0.975000    1.000000  "
      ]
     },
     "execution_count": 35,
     "metadata": {},
     "output_type": "execute_result"
    }
   ],
   "source": [
    "df.describe()"
   ]
  },
  {
   "cell_type": "markdown",
   "metadata": {},
   "source": [
    "##### ***Observations***\n",
    "\n",
    "- ***Total*** are 750\n",
    "- ***'label'*** is our ***prediction***, with 1 as likekable  and 0 as Non likekable.\n",
    "- ***Key*** is a categorical value with numbers from 0 to 11\n",
    "- ***acoustiness, danceability, energy, instrumentalness, liveness, speechiness, and valence*** are **continous** variables that goes up till 1 \n",
    "- About **60%** of the tracks are ***likeable***\n",
    "- ***Mode*** is categorical between 1 or 0 indicates the modality (major or minor) of a track, the type of scale from which its melodic content is derived. Major is represented by 1 and minor is 0, the tracks in major are 74% of this set. \n",
    "- Most of the time signature ranges in 4 (> 75%) \n",
    "- Most of the tracks duration ranges in 244236(> 75%) these are miliseconds, that transformed to minutes are about 4 minutes. \n",
    "- ***valence*** describing the musical positiveness conveyed by a track. Tracks with high valence sound more ***positive (e.g. happy, cheerful, euphoric)***, while tracks with low valence sound more ***negative (e.g. sad, depressed, angry)***, (> 75%) of the tracks are onto 0.68 \n"
   ]
  },
  {
   "cell_type": "markdown",
   "metadata": {},
   "source": [
    "**Input Variables**\n",
    "\n",
    " Numerical:\n",
    "- acousticness\n",
    "- danceability\n",
    "- duration\n",
    "- energy\n",
    "- instrumentalness\n",
    "- liveness\t\n",
    "- loudness\t\n",
    "- speechiness\n",
    "- tempo\n",
    "- valence\n",
    "\n",
    "Categorical:\n",
    "- key\n",
    "- mode\n",
    "- time_signature\n",
    "\n",
    "**Output Variable**\n",
    "- label"
   ]
  },
  {
   "cell_type": "markdown",
   "metadata": {},
   "source": [
    "#### 3.2 Variable Analysis: Numerical\n",
    "\n",
    "***Key Relatioships***\n",
    "\n",
    "We want to know how well each feature correlates with the track being liked. We want to do this early in our project and match these quick correlations to correlations modeled later in the project."
   ]
  },
  {
   "cell_type": "code",
   "execution_count": 36,
   "metadata": {},
   "outputs": [
    {
     "data": {
      "image/png": "[encoded data removed]",
      "text/plain": [
       "<Figure size 1200x800 with 2 Axes>"
      ]
     },
     "metadata": {},
     "output_type": "display_data"
    }
   ],
   "source": [
    "# Heatmap correlation just for continues variables\n",
    "continous_columns = df.select_dtypes(include=['float64']).columns                                     \n",
    "plt.figure(figsize=(12,8))\n",
    "sns.heatmap(df[continous_columns].corr(), annot=True, cmap='Spectral', fmt='.2f')\n",
    "plt.title(\"Correlation between Continous Variables\")\n",
    "plt.show()\n",
    " "
   ]
  },
  {
   "cell_type": "markdown",
   "metadata": {},
   "source": [
    "#### 3.2 Variable Analysis: Categorical\n",
    "\n",
    "Analyze cardinality (the number of unique categories).\n",
    "Examine the frequency distribution of each category."
   ]
  },
  {
   "cell_type": "markdown",
   "metadata": {},
   "source": [
    "This analysis is important because it can inform decisions on how to treat these variables in modeling (e.g., one-hot encoding or ordinal encoding)."
   ]
  },
  {
   "cell_type": "code",
   "execution_count": 37,
   "metadata": {},
   "outputs": [
    {
     "name": "stdout",
     "output_type": "stream",
     "text": [
      "Feature: key\n",
      "Cardinality: 12\n",
      "Frequency Distribution:\n",
      "key\n",
      "0     113\n",
      "2      92\n",
      "1      85\n",
      "9      74\n",
      "5      69\n",
      "7      63\n",
      "8      51\n",
      "4      48\n",
      "10     48\n",
      "11     46\n",
      "6      44\n",
      "3      17\n",
      "Name: count, dtype: int64\n",
      "\n",
      "========================================\n",
      "\n",
      "Feature: mode\n",
      "Cardinality: 2\n",
      "Frequency Distribution:\n",
      "mode\n",
      "1    556\n",
      "0    194\n",
      "Name: count, dtype: int64\n",
      "\n",
      "========================================\n",
      "\n",
      "Feature: time_signature\n",
      "Cardinality: 4\n",
      "Frequency Distribution:\n",
      "time_signature\n",
      "4    671\n",
      "3     64\n",
      "5      9\n",
      "1      6\n",
      "Name: count, dtype: int64\n",
      "\n",
      "========================================\n",
      "\n"
     ]
    }
   ],
   "source": [
    "# List of categorical variables\n",
    "categorical_features = ['key', 'mode', 'time_signature']\n",
    "\n",
    "# Analyze cardinality and frequency distribution for each categorical variable\n",
    "for feature in categorical_features:\n",
    "    cardinality = df[feature].nunique()  # Number of unique categories\n",
    "    frequency_distribution = df[feature].value_counts()  # Frequency distribution\n",
    "    \n",
    "    print(f\"Feature: {feature}\")\n",
    "    print(f\"Cardinality: {cardinality}\")\n",
    "    print(\"Frequency Distribution:\")\n",
    "    print(frequency_distribution)\n",
    "    print(\"\\n\" + \"=\"*40 + \"\\n\")"
   ]
  },
  {
   "cell_type": "markdown",
   "metadata": {},
   "source": [
    "**Key**\n",
    "cardinality: 12 representing the 12 musical keys. Distribution: the most frequent key is 0 (C) with 113 occurrences, while the least frequent is 3 (D♯/E♭) with 17 occurrences. This suggests some ***musical keys are more common than others**.\n",
    "\n",
    "**Mode:**\n",
    "Cardinality: 2 (Minor = 0, Major = 1). Major mode is much more frequent, with 556 instances, compared to 194 instances in Minor mode. we observe imbalance between Major and Minor modes.\n",
    "\n",
    "**Time Signature:** cardinality: 4, distribution: The majority of tracks ***(671 out of 750)*** have a 4/4 time signature, which is the most common in popular music. Other time signatures like 3/4, 5/4, and 1/4 are much less frequent, indicating that 4/4 dominates the dataset."
   ]
  },
  {
   "cell_type": "code",
   "execution_count": 56,
   "metadata": {},
   "outputs": [
    {
     "data": {
      "image/png": "[encoded data removed]",
      "text/plain": [
       "<Figure size 800x1000 with 3 Axes>"
      ]
     },
     "metadata": {},
     "output_type": "display_data"
    }
   ],
   "source": [
    "# Set up the figure and axes for the subplots\n",
    "fig, axes = plt.subplots(3, 1, figsize=(8, 10))\n",
    "\n",
    "# Plot distribution of 'key'\n",
    "sns.countplot(x='key', hue='key', data=df, ax=axes[0], legend=False)\n",
    "axes[0].set_title(\"Distribution of Musical Keys\")\n",
    "axes[0].set_xlabel(\"Musical Key\")\n",
    "axes[0].set_ylabel(\"Count\")\n",
    "\n",
    "# Plot distribution of 'mode'\n",
    "sns.countplot(x='mode', hue='mode', data=df, ax=axes[1], legend=False)\n",
    "axes[1].set_title(\"Distribution of Mode\")\n",
    "axes[1].set_xlabel(\"Mode (0 = Minor, 1 = Major)\")\n",
    "axes[1].set_ylabel(\"Count\")\n",
    "\n",
    "# Plot distribution of 'time_signature'\n",
    "sns.countplot(x='time_signature', hue='time_signature', data=df, ax=axes[2], legend=False)\n",
    "axes[2].set_title(\"Distribution of Time Signatures\")\n",
    "axes[2].set_xlabel(\"Time Signature\")\n",
    "axes[2].set_ylabel(\"Count\")\n",
    "\n",
    "# Adjust the layout\n",
    "plt.tight_layout()\n",
    "plt.show()"
   ]
  },
  {
   "cell_type": "markdown",
   "metadata": {},
   "source": [
    "#### 3.2 Variable Analysis: Composite\n",
    "\n",
    "**key + mode**\n"
   ]
  },
  {
   "cell_type": "code",
   "execution_count": 38,
   "metadata": {},
   "outputs": [
    {
     "name": "stdout",
     "output_type": "stream",
     "text": [
      "   mode mode_label\n",
      "0     0      Minor\n",
      "1     1      Major\n",
      "2     1      Major\n",
      "3     1      Major\n",
      "4     0      Minor\n"
     ]
    }
   ],
   "source": [
    "# Map 'mode' to 'Minor' and 'Major' \n",
    "df['mode_label'] = df['mode'].map({0: 'Minor', 1: 'Major'})\n",
    "\n",
    "# Check the result to ensure the mapping worked correctly\n",
    "print(df[['mode', 'mode_label']].head())"
   ]
  },
  {
   "cell_type": "code",
   "execution_count": 39,
   "metadata": {},
   "outputs": [
    {
     "name": "stdout",
     "output_type": "stream",
     "text": [
      "               label\n",
      "mode_label          \n",
      "Major       0.625899\n",
      "Minor       0.536082\n"
     ]
    }
   ],
   "source": [
    "like_rate = df.groupby(['mode_label'])[['label']].mean()\n",
    "print(like_rate)\n"
   ]
  },
  {
   "cell_type": "markdown",
   "metadata": {},
   "source": [
    "Even though the key, mode, and time_signature variables are stored as numerical values, they represent categorical data. We’ll analyze their cardinality and the distribution of categories.\n",
    "\n"
   ]
  },
  {
   "cell_type": "code",
   "execution_count": 40,
   "metadata": {},
   "outputs": [
    {
     "name": "stdout",
     "output_type": "stream",
     "text": [
      "   key key_label\n",
      "0    8     G♯/A♭\n",
      "1    4         E\n",
      "2    5         F\n",
      "3    5         F\n",
      "4    6     F♯/G♭\n"
     ]
    }
   ],
   "source": [
    "# Mapping the 'key' integers to their corresponding pitch class notation\n",
    "key_map = {\n",
    "    -1: 'No Key',\n",
    "    0: 'C',\n",
    "    1: 'C♯/D♭',\n",
    "    2: 'D',\n",
    "    3: 'D♯/E♭',\n",
    "    4: 'E',\n",
    "    5: 'F',\n",
    "    6: 'F♯/G♭',\n",
    "    7: 'G',\n",
    "    8: 'G♯/A♭',\n",
    "    9: 'A',\n",
    "    10: 'A♯/B♭',\n",
    "    11: 'B'\n",
    "}\n",
    "\n",
    "# Apply the mapping to create the 'key_label' column\n",
    "df['key_label'] = df['key'].map(key_map)\n",
    "\n",
    "# Verify the mapping\n",
    "print(df[['key', 'key_label']].head())"
   ]
  },
  {
   "cell_type": "code",
   "execution_count": 55,
   "metadata": {},
   "outputs": [
    {
     "data": {
      "application/vnd.plotly.v1+json": {
       "config": {
        "plotlyServerURL": "https://plot.ly"
       },
       "data": [
        {
         "link": {
          "color": [
           "#636EFA",
           "#636EFA",
           "#FECB52",
           "#FF97FF",
           "#FECB52",
           "#FF97FF",
           "#EF553B",
           "#EF553B",
           "#FECB52",
           "#FF97FF",
           "#FECB52",
           "#FF97FF",
           "#00CC96",
           "#00CC96",
           "#FECB52",
           "#FF97FF",
           "#FECB52",
           "#FF97FF",
           "#AB63FA",
           "#AB63FA",
           "#FECB52",
           "#FF97FF",
           "#FECB52",
           "#FF97FF",
           "#FFA15A",
           "#FFA15A",
           "#FECB52",
           "#FF97FF",
           "#FECB52",
           "#FF97FF",
           "#19D3F3",
           "#19D3F3",
           "#FECB52",
           "#FF97FF",
           "#FECB52",
           "#FF97FF",
           "#FF6692",
           "#FF6692",
           "#FECB52",
           "#FF97FF",
           "#FECB52",
           "#FF97FF",
           "#B6E880",
           "#B6E880",
           "#FECB52",
           "#FF97FF",
           "#FECB52",
           "#FF97FF",
           "#FF97FF",
           "#FF97FF",
           "#FECB52",
           "#FF97FF",
           "#FECB52",
           "#FF97FF",
           "#FECB52",
           "#FECB52",
           "#FECB52",
           "#FF97FF",
           "#FECB52",
           "#FF97FF",
           "#636EFA",
           "#636EFA",
           "#FECB52",
           "#FF97FF",
           "#FF97FF",
           "#EF553B",
           "#EF553B",
           "#FECB52",
           "#FF97FF",
           "#FECB52",
           "#FF97FF"
          ],
          "source": [
           0,
           0,
           12,
           12,
           13,
           13,
           1,
           1,
           12,
           12,
           13,
           13,
           2,
           2,
           12,
           12,
           13,
           13,
           3,
           3,
           12,
           12,
           13,
           13,
           4,
           4,
           12,
           12,
           13,
           13,
           5,
           5,
           12,
           12,
           13,
           13,
           6,
           6,
           12,
           12,
           13,
           13,
           7,
           7,
           12,
           12,
           13,
           13,
           8,
           8,
           12,
           12,
           13,
           13,
           9,
           9,
           12,
           12,
           13,
           13,
           10,
           10,
           12,
           12,
           13,
           11,
           11,
           12,
           12,
           13,
           13
          ],
          "target": [
           12,
           13,
           14,
           15,
           14,
           15,
           12,
           13,
           14,
           15,
           14,
           15,
           12,
           13,
           14,
           15,
           14,
           15,
           12,
           13,
           14,
           15,
           14,
           15,
           12,
           13,
           14,
           15,
           14,
           15,
           12,
           13,
           14,
           15,
           14,
           15,
           12,
           13,
           14,
           15,
           14,
           15,
           12,
           13,
           14,
           15,
           14,
           15,
           12,
           13,
           14,
           15,
           14,
           15,
           12,
           13,
           14,
           15,
           14,
           15,
           12,
           13,
           14,
           15,
           15,
           12,
           13,
           14,
           15,
           14,
           15
          ],
          "value": [
           42,
           9,
           19,
           23,
           2,
           7,
           26,
           22,
           20,
           6,
           14,
           8,
           43,
           26,
           27,
           16,
           14,
           12,
           24,
           20,
           12,
           12,
           11,
           9,
           55,
           19,
           39,
           16,
           14,
           5,
           67,
           18,
           26,
           41,
           6,
           12,
           95,
           18,
           72,
           23,
           15,
           3,
           81,
           11,
           56,
           25,
           8,
           3,
           58,
           5,
           32,
           26,
           4,
           1,
           22,
           24,
           11,
           11,
           9,
           15,
           15,
           2,
           12,
           3,
           2,
           28,
           20,
           22,
           6,
           7,
           13
          ]
         },
         "node": {
          "color": "lightgrey",
          "label": [
           "G♯/A♭",
           "E",
           "F",
           "F♯/G♭",
           "A",
           "C♯/D♭",
           "C",
           "D",
           "G",
           "B",
           "D♯/E♭",
           "A♯/B♭",
           "Major",
           "Minor",
           "Liked",
           "Not Liked"
          ],
          "line": {
           "color": "black",
           "width": 0.5
          },
          "pad": 15,
          "thickness": 20
         },
         "type": "sankey"
        }
       ],
       "layout": {
        "font": {
         "size": 10
        },
        "template": {
         "data": {
          "bar": [
           {
            "error_x": {
             "color": "#2a3f5f"
            },
            "error_y": {
             "color": "#2a3f5f"
            },
            "marker": {
             "line": {
              "color": "#E5ECF6",
              "width": 0.5
             },
             "pattern": {
              "fillmode": "overlay",
              "size": 10,
              "solidity": 0.2
             }
            },
            "type": "bar"
           }
          ],
          "barpolar": [
           {
            "marker": {
             "line": {
              "color": "#E5ECF6",
              "width": 0.5
             },
             "pattern": {
              "fillmode": "overlay",
              "size": 10,
              "solidity": 0.2
             }
            },
            "type": "barpolar"
           }
          ],
          "carpet": [
           {
            "aaxis": {
             "endlinecolor": "#2a3f5f",
             "gridcolor": "white",
             "linecolor": "white",
             "minorgridcolor": "white",
             "startlinecolor": "#2a3f5f"
            },
            "baxis": {
             "endlinecolor": "#2a3f5f",
             "gridcolor": "white",
             "linecolor": "white",
             "minorgridcolor": "white",
             "startlinecolor": "#2a3f5f"
            },
            "type": "carpet"
           }
          ],
          "choropleth": [
           {
            "colorbar": {
             "outlinewidth": 0,
             "ticks": ""
            },
            "type": "choropleth"
           }
          ],
          "contour": [
           {
            "colorbar": {
             "outlinewidth": 0,
             "ticks": ""
            },
            "colorscale": [
             [
              0,
              "#0d0887"
             ],
             [
              0.1111111111111111,
              "#46039f"
             ],
             [
              0.2222222222222222,
              "#7201a8"
             ],
             [
              0.3333333333333333,
              "#9c179e"
             ],
             [
              0.4444444444444444,
              "#bd3786"
             ],
             [
              0.5555555555555556,
              "#d8576b"
             ],
             [
              0.6666666666666666,
              "#ed7953"
             ],
             [
              0.7777777777777778,
              "#fb9f3a"
             ],
             [
              0.8888888888888888,
              "#fdca26"
             ],
             [
              1,
              "#f0f921"
             ]
            ],
            "type": "contour"
           }
          ],
          "contourcarpet": [
           {
            "colorbar": {
             "outlinewidth": 0,
             "ticks": ""
            },
            "type": "contourcarpet"
           }
          ],
          "heatmap": [
           {
            "colorbar": {
             "outlinewidth": 0,
             "ticks": ""
            },
            "colorscale": [
             [
              0,
              "#0d0887"
             ],
             [
              0.1111111111111111,
              "#46039f"
             ],
             [
              0.2222222222222222,
              "#7201a8"
             ],
             [
              0.3333333333333333,
              "#9c179e"
             ],
             [
              0.4444444444444444,
              "#bd3786"
             ],
             [
              0.5555555555555556,
              "#d8576b"
             ],
             [
              0.6666666666666666,
              "#ed7953"
             ],
             [
              0.7777777777777778,
              "#fb9f3a"
             ],
             [
              0.8888888888888888,
              "#fdca26"
             ],
             [
              1,
              "#f0f921"
             ]
            ],
            "type": "heatmap"
           }
          ],
          "heatmapgl": [
           {
            "colorbar": {
             "outlinewidth": 0,
             "ticks": ""
            },
            "colorscale": [
             [
              0,
              "#0d0887"
             ],
             [
              0.1111111111111111,
              "#46039f"
             ],
             [
              0.2222222222222222,
              "#7201a8"
             ],
             [
              0.3333333333333333,
              "#9c179e"
             ],
             [
              0.4444444444444444,
              "#bd3786"
             ],
             [
              0.5555555555555556,
              "#d8576b"
             ],
             [
              0.6666666666666666,
              "#ed7953"
             ],
             [
              0.7777777777777778,
              "#fb9f3a"
             ],
             [
              0.8888888888888888,
              "#fdca26"
             ],
             [
              1,
              "#f0f921"
             ]
            ],
            "type": "heatmapgl"
           }
          ],
          "histogram": [
           {
            "marker": {
             "pattern": {
              "fillmode": "overlay",
              "size": 10,
              "solidity": 0.2
             }
            },
            "type": "histogram"
           }
          ],
          "histogram2d": [
           {
            "colorbar": {
             "outlinewidth": 0,
             "ticks": ""
            },
            "colorscale": [
             [
              0,
              "#0d0887"
             ],
             [
              0.1111111111111111,
              "#46039f"
             ],
             [
              0.2222222222222222,
              "#7201a8"
             ],
             [
              0.3333333333333333,
              "#9c179e"
             ],
             [
              0.4444444444444444,
              "#bd3786"
             ],
             [
              0.5555555555555556,
              "#d8576b"
             ],
             [
              0.6666666666666666,
              "#ed7953"
             ],
             [
              0.7777777777777778,
              "#fb9f3a"
             ],
             [
              0.8888888888888888,
              "#fdca26"
             ],
             [
              1,
              "#f0f921"
             ]
            ],
            "type": "histogram2d"
           }
          ],
          "histogram2dcontour": [
           {
            "colorbar": {
             "outlinewidth": 0,
             "ticks": ""
            },
            "colorscale": [
             [
              0,
              "#0d0887"
             ],
             [
              0.1111111111111111,
              "#46039f"
             ],
             [
              0.2222222222222222,
              "#7201a8"
             ],
             [
              0.3333333333333333,
              "#9c179e"
             ],
             [
              0.4444444444444444,
              "#bd3786"
             ],
             [
              0.5555555555555556,
              "#d8576b"
             ],
             [
              0.6666666666666666,
              "#ed7953"
             ],
             [
              0.7777777777777778,
              "#fb9f3a"
             ],
             [
              0.8888888888888888,
              "#fdca26"
             ],
             [
              1,
              "#f0f921"
             ]
            ],
            "type": "histogram2dcontour"
           }
          ],
          "mesh3d": [
           {
            "colorbar": {
             "outlinewidth": 0,
             "ticks": ""
            },
            "type": "mesh3d"
           }
          ],
          "parcoords": [
           {
            "line": {
             "colorbar": {
              "outlinewidth": 0,
              "ticks": ""
             }
            },
            "type": "parcoords"
           }
          ],
          "pie": [
           {
            "automargin": true,
            "type": "pie"
           }
          ],
          "scatter": [
           {
            "fillpattern": {
             "fillmode": "overlay",
             "size": 10,
             "solidity": 0.2
            },
            "type": "scatter"
           }
          ],
          "scatter3d": [
           {
            "line": {
             "colorbar": {
              "outlinewidth": 0,
              "ticks": ""
             }
            },
            "marker": {
             "colorbar": {
              "outlinewidth": 0,
              "ticks": ""
             }
            },
            "type": "scatter3d"
           }
          ],
          "scattercarpet": [
           {
            "marker": {
             "colorbar": {
              "outlinewidth": 0,
              "ticks": ""
             }
            },
            "type": "scattercarpet"
           }
          ],
          "scattergeo": [
           {
            "marker": {
             "colorbar": {
              "outlinewidth": 0,
              "ticks": ""
             }
            },
            "type": "scattergeo"
           }
          ],
          "scattergl": [
           {
            "marker": {
             "colorbar": {
              "outlinewidth": 0,
              "ticks": ""
             }
            },
            "type": "scattergl"
           }
          ],
          "scattermapbox": [
           {
            "marker": {
             "colorbar": {
              "outlinewidth": 0,
              "ticks": ""
             }
            },
            "type": "scattermapbox"
           }
          ],
          "scatterpolar": [
           {
            "marker": {
             "colorbar": {
              "outlinewidth": 0,
              "ticks": ""
             }
            },
            "type": "scatterpolar"
           }
          ],
          "scatterpolargl": [
           {
            "marker": {
             "colorbar": {
              "outlinewidth": 0,
              "ticks": ""
             }
            },
            "type": "scatterpolargl"
           }
          ],
          "scatterternary": [
           {
            "marker": {
             "colorbar": {
              "outlinewidth": 0,
              "ticks": ""
             }
            },
            "type": "scatterternary"
           }
          ],
          "surface": [
           {
            "colorbar": {
             "outlinewidth": 0,
             "ticks": ""
            },
            "colorscale": [
             [
              0,
              "#0d0887"
             ],
             [
              0.1111111111111111,
              "#46039f"
             ],
             [
              0.2222222222222222,
              "#7201a8"
             ],
             [
              0.3333333333333333,
              "#9c179e"
             ],
             [
              0.4444444444444444,
              "#bd3786"
             ],
             [
              0.5555555555555556,
              "#d8576b"
             ],
             [
              0.6666666666666666,
              "#ed7953"
             ],
             [
              0.7777777777777778,
              "#fb9f3a"
             ],
             [
              0.8888888888888888,
              "#fdca26"
             ],
             [
              1,
              "#f0f921"
             ]
            ],
            "type": "surface"
           }
          ],
          "table": [
           {
            "cells": {
             "fill": {
              "color": "#EBF0F8"
             },
             "line": {
              "color": "white"
             }
            },
            "header": {
             "fill": {
              "color": "#C8D4E3"
             },
             "line": {
              "color": "white"
             }
            },
            "type": "table"
           }
          ]
         },
         "layout": {
          "annotationdefaults": {
           "arrowcolor": "#2a3f5f",
           "arrowhead": 0,
           "arrowwidth": 1
          },
          "autotypenumbers": "strict",
          "coloraxis": {
           "colorbar": {
            "outlinewidth": 0,
            "ticks": ""
           }
          },
          "colorscale": {
           "diverging": [
            [
             0,
             "#8e0152"
            ],
            [
             0.1,
             "#c51b7d"
            ],
            [
             0.2,
             "#de77ae"
            ],
            [
             0.3,
             "#f1b6da"
            ],
            [
             0.4,
             "#fde0ef"
            ],
            [
             0.5,
             "#f7f7f7"
            ],
            [
             0.6,
             "#e6f5d0"
            ],
            [
             0.7,
             "#b8e186"
            ],
            [
             0.8,
             "#7fbc41"
            ],
            [
             0.9,
             "#4d9221"
            ],
            [
             1,
             "#276419"
            ]
           ],
           "sequential": [
            [
             0,
             "#0d0887"
            ],
            [
             0.1111111111111111,
             "#46039f"
            ],
            [
             0.2222222222222222,
             "#7201a8"
            ],
            [
             0.3333333333333333,
             "#9c179e"
            ],
            [
             0.4444444444444444,
             "#bd3786"
            ],
            [
             0.5555555555555556,
             "#d8576b"
            ],
            [
             0.6666666666666666,
             "#ed7953"
            ],
            [
             0.7777777777777778,
             "#fb9f3a"
            ],
            [
             0.8888888888888888,
             "#fdca26"
            ],
            [
             1,
             "#f0f921"
            ]
           ],
           "sequentialminus": [
            [
             0,
             "#0d0887"
            ],
            [
             0.1111111111111111,
             "#46039f"
            ],
            [
             0.2222222222222222,
             "#7201a8"
            ],
            [
             0.3333333333333333,
             "#9c179e"
            ],
            [
             0.4444444444444444,
             "#bd3786"
            ],
            [
             0.5555555555555556,
             "#d8576b"
            ],
            [
             0.6666666666666666,
             "#ed7953"
            ],
            [
             0.7777777777777778,
             "#fb9f3a"
            ],
            [
             0.8888888888888888,
             "#fdca26"
            ],
            [
             1,
             "#f0f921"
            ]
           ]
          },
          "colorway": [
           "#636efa",
           "#EF553B",
           "#00cc96",
           "#ab63fa",
           "#FFA15A",
           "#19d3f3",
           "#FF6692",
           "#B6E880",
           "#FF97FF",
           "#FECB52"
          ],
          "font": {
           "color": "#2a3f5f"
          },
          "geo": {
           "bgcolor": "white",
           "lakecolor": "white",
           "landcolor": "#E5ECF6",
           "showlakes": true,
           "showland": true,
           "subunitcolor": "white"
          },
          "hoverlabel": {
           "align": "left"
          },
          "hovermode": "closest",
          "mapbox": {
           "style": "light"
          },
          "paper_bgcolor": "white",
          "plot_bgcolor": "#E5ECF6",
          "polar": {
           "angularaxis": {
            "gridcolor": "white",
            "linecolor": "white",
            "ticks": ""
           },
           "bgcolor": "#E5ECF6",
           "radialaxis": {
            "gridcolor": "white",
            "linecolor": "white",
            "ticks": ""
           }
          },
          "scene": {
           "xaxis": {
            "backgroundcolor": "#E5ECF6",
            "gridcolor": "white",
            "gridwidth": 2,
            "linecolor": "white",
            "showbackground": true,
            "ticks": "",
            "zerolinecolor": "white"
           },
           "yaxis": {
            "backgroundcolor": "#E5ECF6",
            "gridcolor": "white",
            "gridwidth": 2,
            "linecolor": "white",
            "showbackground": true,
            "ticks": "",
            "zerolinecolor": "white"
           },
           "zaxis": {
            "backgroundcolor": "#E5ECF6",
            "gridcolor": "white",
            "gridwidth": 2,
            "linecolor": "white",
            "showbackground": true,
            "ticks": "",
            "zerolinecolor": "white"
           }
          },
          "shapedefaults": {
           "line": {
            "color": "#2a3f5f"
           }
          },
          "ternary": {
           "aaxis": {
            "gridcolor": "white",
            "linecolor": "white",
            "ticks": ""
           },
           "baxis": {
            "gridcolor": "white",
            "linecolor": "white",
            "ticks": ""
           },
           "bgcolor": "#E5ECF6",
           "caxis": {
            "gridcolor": "white",
            "linecolor": "white",
            "ticks": ""
           }
          },
          "title": {
           "x": 0.05
          },
          "xaxis": {
           "automargin": true,
           "gridcolor": "white",
           "linecolor": "white",
           "ticks": "",
           "title": {
            "standoff": 15
           },
           "zerolinecolor": "white",
           "zerolinewidth": 2
          },
          "yaxis": {
           "automargin": true,
           "gridcolor": "white",
           "linecolor": "white",
           "ticks": "",
           "title": {
            "standoff": 15
           },
           "zerolinecolor": "white",
           "zerolinewidth": 2
          }
         }
        },
        "title": {
         "text": "Sankey Diagram: Key → Mode → Label (Liked/Not Liked)"
        }
       }
      }
     },
     "metadata": {},
     "output_type": "display_data"
    }
   ],
   "source": [
    "import plotly.graph_objects as go\n",
    "import plotly.express as px\n",
    "\n",
    "# Define the nodes (Keys, Modes, and Labels)\n",
    "all_labels = list(df['key_label'].unique()) + ['Major', 'Minor', 'Liked', 'Not Liked']\n",
    "\n",
    "# Set the indexes for the nodes (key -> mode -> label)\n",
    "key_labels = list(df['key_label'].unique())  # Musical Keys (first group of nodes)\n",
    "modes = ['Major', 'Minor']  # Modes (second group of nodes)\n",
    "labels = ['Liked', 'Not Liked']  # Output Labels (third group of nodes)\n",
    "\n",
    "# Define source and target mappings (Key -> Mode -> Label)\n",
    "# Create empty lists for sources, targets, values, and colors\n",
    "sources = []\n",
    "targets = []\n",
    "values = []\n",
    "colors = []\n",
    "\n",
    "# Use a Plotly color palette\n",
    "color_palette = px.colors.qualitative.Plotly\n",
    "\n",
    "# Fill source, target, and color lists\n",
    "for idx, key in enumerate(key_labels):\n",
    "    # Key -> Mode (major or minor)\n",
    "    major_count = df[(df['key_label'] == key) & (df['mode_label'] == 'Major')].shape[0]\n",
    "    minor_count = df[(df['key_label'] == key) & (df['mode_label'] == 'Minor')].shape[0]\n",
    "    \n",
    "    if major_count > 0:\n",
    "        sources.append(all_labels.index(key))  # Index of the key\n",
    "        targets.append(all_labels.index('Major'))  # Index of the mode 'Major'\n",
    "        values.append(major_count)  # Count of tracks with major mode\n",
    "        colors.append(color_palette[idx % len(color_palette)])  # Assign color from palette\n",
    "    \n",
    "    if minor_count > 0:\n",
    "        sources.append(all_labels.index(key))  # Index of the key\n",
    "        targets.append(all_labels.index('Minor'))  # Index of the mode 'Minor'\n",
    "        values.append(minor_count)  # Count of tracks with minor mode\n",
    "        colors.append(color_palette[idx % len(color_palette)])  # Assign color from palette\n",
    "\n",
    "    # Now Mode -> Label (Liked or Not Liked)\n",
    "    major_liked = df[(df['key_label'] == key) & (df['mode_label'] == 'Major') & (df['label'] == 1)].shape[0]\n",
    "    major_not_liked = df[(df['key_label'] == key) & (df['mode_label'] == 'Major') & (df['label'] == 0)].shape[0]\n",
    "    minor_liked = df[(df['key_label'] == key) & (df['mode_label'] == 'Minor') & (df['label'] == 1)].shape[0]\n",
    "    minor_not_liked = df[(df['key_label'] == key) & (df['mode_label'] == 'Minor') & (df['label'] == 0)].shape[0]\n",
    "\n",
    "    if major_liked > 0:\n",
    "        sources.append(all_labels.index('Major'))\n",
    "        targets.append(all_labels.index('Liked'))\n",
    "        values.append(major_liked)\n",
    "        colors.append(color_palette[-1])  # Assign color for liked\n",
    "\n",
    "    if major_not_liked > 0:\n",
    "        sources.append(all_labels.index('Major'))\n",
    "        targets.append(all_labels.index('Not Liked'))\n",
    "        values.append(major_not_liked)\n",
    "        colors.append(color_palette[-2])  # Assign color for not liked\n",
    "\n",
    "    if minor_liked > 0:\n",
    "        sources.append(all_labels.index('Minor'))\n",
    "        targets.append(all_labels.index('Liked'))\n",
    "        values.append(minor_liked)\n",
    "        colors.append(color_palette[-1])  # Assign color for liked\n",
    "\n",
    "    if minor_not_liked > 0:\n",
    "        sources.append(all_labels.index('Minor'))\n",
    "        targets.append(all_labels.index('Not Liked'))\n",
    "        values.append(minor_not_liked)\n",
    "        colors.append(color_palette[-2])  # Assign color for not liked\n",
    "\n",
    "# Create the Sankey diagram\n",
    "fig = go.Figure(go.Sankey(\n",
    "    node=dict(\n",
    "        pad=15,\n",
    "        thickness=20,\n",
    "        line=dict(color=\"black\", width=0.5),\n",
    "        label=all_labels,\n",
    "        color=\"lightgrey\",  # Node color for all nodes\n",
    "    ),\n",
    "    link=dict(\n",
    "        source=sources,\n",
    "        target=targets,\n",
    "        value=values,\n",
    "        color=colors  # Use the assigned color palette for links\n",
    "    )\n",
    "))\n",
    "\n",
    "# Add title and display\n",
    "fig.update_layout(title_text=\"Sankey Diagram: Key → Mode → Label (Liked/Not Liked)\", font_size=10)\n",
    "fig.show()\n"
   ]
  },
  {
   "cell_type": "code",
   "execution_count": 42,
   "metadata": {},
   "outputs": [
    {
     "data": {
      "image/png": "[encoded data removed]",
      "text/plain": [
       "<Figure size 1858.88x600 with 2 Axes>"
      ]
     },
     "metadata": {},
     "output_type": "display_data"
    }
   ],
   "source": [
    "g = sns.catplot(x=\"key_label\", hue=\"label\", col=\"mode_label\", data=df, kind=\"count\", height=6, aspect=1.5, palette='Spectral')\n",
    "g.set_xticklabels(rotation=45)\n",
    "g.set_axis_labels(\"Musical Key\", \"Count\")\n",
    "g.set_titles(\"{col_name}\")\n",
    "g.fig.suptitle('Count of Liked vs. Not Liked Tracks by Key and Mode', fontsize=16, fontweight='bold')\n",
    "g.fig.subplots_adjust(top=0.85)  # Adjust title position\n",
    "plt.show()\n"
   ]
  },
  {
   "cell_type": "code",
   "execution_count": 48,
   "metadata": {},
   "outputs": [
    {
     "data": {
      "image/png": "[encoded data removed]",
      "text/plain": [
       "<Figure size 1200x800 with 2 Axes>"
      ]
     },
     "metadata": {},
     "output_type": "display_data"
    }
   ],
   "source": [
    "\n",
    "# Calculate the like rate for each key and mode combination\n",
    "like_rate = df.pivot_table(index='key_label', columns='mode_label', values='label', aggfunc='mean')\n",
    "\n",
    "# Plot heatmap\n",
    "plt.figure(figsize=(12, 8))\n",
    "sns.heatmap(like_rate, annot=True, cmap='Spectral', cbar=True)\n",
    "plt.title('Like Rate by Key and Mode', fontweight='bold', fontsize=16)\n",
    "plt.xlabel('Mode')\n",
    "plt.ylabel('Musical Key')\n",
    "plt.show()"
   ]
  },
  {
   "cell_type": "code",
   "execution_count": 44,
   "metadata": {},
   "outputs": [
    {
     "name": "stdout",
     "output_type": "stream",
     "text": [
      "Major Like Rates:\n",
      " key_label\n",
      "A        0.709091\n",
      "A♯/B♭    0.785714\n",
      "B        0.500000\n",
      "C        0.757895\n",
      "C♯/D♭    0.388060\n",
      "D        0.691358\n",
      "D♯/E♭    0.800000\n",
      "E        0.769231\n",
      "F        0.627907\n",
      "F♯/G♭    0.500000\n",
      "G        0.551724\n",
      "G♯/A♭    0.452381\n",
      "Name: label, dtype: float64\n",
      "Minor Like Rates:\n",
      " key_label\n",
      "A        0.736842\n",
      "A♯/B♭    0.350000\n",
      "B        0.375000\n",
      "C        0.833333\n",
      "C♯/D♭    0.333333\n",
      "D        0.727273\n",
      "D♯/E♭    0.000000\n",
      "E        0.636364\n",
      "F        0.538462\n",
      "F♯/G♭    0.550000\n",
      "G        0.800000\n",
      "G♯/A♭    0.222222\n",
      "Name: label, dtype: float64\n"
     ]
    }
   ],
   "source": [
    "# Compare the like rates within each mode separately\n",
    "major_like_rate = df[df['mode_label'] == 'Major'].groupby('key_label')['label'].mean()\n",
    "minor_like_rate = df[df['mode_label'] == 'Minor'].groupby('key_label')['label'].mean()\n",
    "\n",
    "print(\"Major Like Rates:\\n\", major_like_rate)\n",
    "print(\"Minor Like Rates:\\n\", minor_like_rate)"
   ]
  },
  {
   "cell_type": "code",
   "execution_count": 45,
   "metadata": {},
   "outputs": [
    {
     "data": {
      "text/html": [
       "<div>\n",
       "<style scoped>\n",
       "    .dataframe tbody tr th:only-of-type {\n",
       "        vertical-align: middle;\n",
       "    }\n",
       "\n",
       "    .dataframe tbody tr th {\n",
       "        vertical-align: top;\n",
       "    }\n",
       "\n",
       "    .dataframe thead th {\n",
       "        text-align: right;\n",
       "    }\n",
       "</style>\n",
       "<table border=\"1\" class=\"dataframe\">\n",
       "  <thead>\n",
       "    <tr style=\"text-align: right;\">\n",
       "      <th></th>\n",
       "      <th></th>\n",
       "      <th>acousticness</th>\n",
       "      <th>danceability</th>\n",
       "      <th>duration</th>\n",
       "      <th>energy</th>\n",
       "      <th>instrumentalness</th>\n",
       "      <th>key</th>\n",
       "      <th>liveness</th>\n",
       "      <th>loudness</th>\n",
       "      <th>mode</th>\n",
       "      <th>speechiness</th>\n",
       "      <th>tempo</th>\n",
       "      <th>time_signature</th>\n",
       "      <th>valence</th>\n",
       "      <th>label</th>\n",
       "    </tr>\n",
       "    <tr>\n",
       "      <th>mode_label</th>\n",
       "      <th>key_label</th>\n",
       "      <th></th>\n",
       "      <th></th>\n",
       "      <th></th>\n",
       "      <th></th>\n",
       "      <th></th>\n",
       "      <th></th>\n",
       "      <th></th>\n",
       "      <th></th>\n",
       "      <th></th>\n",
       "      <th></th>\n",
       "      <th></th>\n",
       "      <th></th>\n",
       "      <th></th>\n",
       "      <th></th>\n",
       "    </tr>\n",
       "  </thead>\n",
       "  <tbody>\n",
       "    <tr>\n",
       "      <th rowspan=\"12\" valign=\"top\">Major</th>\n",
       "      <th>A</th>\n",
       "      <td>0.376741</td>\n",
       "      <td>0.579455</td>\n",
       "      <td>219609.490909</td>\n",
       "      <td>0.572311</td>\n",
       "      <td>0.089304</td>\n",
       "      <td>9.0</td>\n",
       "      <td>0.168916</td>\n",
       "      <td>-9.152745</td>\n",
       "      <td>1.0</td>\n",
       "      <td>0.089802</td>\n",
       "      <td>116.857200</td>\n",
       "      <td>3.945455</td>\n",
       "      <td>0.568369</td>\n",
       "      <td>0.709091</td>\n",
       "    </tr>\n",
       "    <tr>\n",
       "      <th>A♯/B♭</th>\n",
       "      <td>0.528452</td>\n",
       "      <td>0.570071</td>\n",
       "      <td>215952.392857</td>\n",
       "      <td>0.486182</td>\n",
       "      <td>0.104385</td>\n",
       "      <td>10.0</td>\n",
       "      <td>0.219264</td>\n",
       "      <td>-11.903000</td>\n",
       "      <td>1.0</td>\n",
       "      <td>0.084800</td>\n",
       "      <td>108.755821</td>\n",
       "      <td>3.892857</td>\n",
       "      <td>0.523179</td>\n",
       "      <td>0.785714</td>\n",
       "    </tr>\n",
       "    <tr>\n",
       "      <th>B</th>\n",
       "      <td>0.269990</td>\n",
       "      <td>0.654409</td>\n",
       "      <td>223809.318182</td>\n",
       "      <td>0.697682</td>\n",
       "      <td>0.039357</td>\n",
       "      <td>11.0</td>\n",
       "      <td>0.159064</td>\n",
       "      <td>-6.416318</td>\n",
       "      <td>1.0</td>\n",
       "      <td>0.097700</td>\n",
       "      <td>115.064818</td>\n",
       "      <td>4.000000</td>\n",
       "      <td>0.518318</td>\n",
       "      <td>0.500000</td>\n",
       "    </tr>\n",
       "    <tr>\n",
       "      <th>C</th>\n",
       "      <td>0.448872</td>\n",
       "      <td>0.581716</td>\n",
       "      <td>209466.652632</td>\n",
       "      <td>0.557456</td>\n",
       "      <td>0.098556</td>\n",
       "      <td>0.0</td>\n",
       "      <td>0.220966</td>\n",
       "      <td>-8.458179</td>\n",
       "      <td>1.0</td>\n",
       "      <td>0.075215</td>\n",
       "      <td>125.393779</td>\n",
       "      <td>3.831579</td>\n",
       "      <td>0.487062</td>\n",
       "      <td>0.757895</td>\n",
       "    </tr>\n",
       "    <tr>\n",
       "      <th>C♯/D♭</th>\n",
       "      <td>0.235113</td>\n",
       "      <td>0.622090</td>\n",
       "      <td>232789.567164</td>\n",
       "      <td>0.649715</td>\n",
       "      <td>0.061132</td>\n",
       "      <td>1.0</td>\n",
       "      <td>0.221554</td>\n",
       "      <td>-6.860313</td>\n",
       "      <td>1.0</td>\n",
       "      <td>0.117151</td>\n",
       "      <td>124.568284</td>\n",
       "      <td>3.910448</td>\n",
       "      <td>0.440888</td>\n",
       "      <td>0.388060</td>\n",
       "    </tr>\n",
       "    <tr>\n",
       "      <th>D</th>\n",
       "      <td>0.409743</td>\n",
       "      <td>0.577395</td>\n",
       "      <td>221192.654321</td>\n",
       "      <td>0.538420</td>\n",
       "      <td>0.143141</td>\n",
       "      <td>2.0</td>\n",
       "      <td>0.183611</td>\n",
       "      <td>-9.734951</td>\n",
       "      <td>1.0</td>\n",
       "      <td>0.079109</td>\n",
       "      <td>118.305802</td>\n",
       "      <td>3.851852</td>\n",
       "      <td>0.507993</td>\n",
       "      <td>0.691358</td>\n",
       "    </tr>\n",
       "    <tr>\n",
       "      <th>D♯/E♭</th>\n",
       "      <td>0.575400</td>\n",
       "      <td>0.544600</td>\n",
       "      <td>254302.266667</td>\n",
       "      <td>0.520273</td>\n",
       "      <td>0.151008</td>\n",
       "      <td>3.0</td>\n",
       "      <td>0.169600</td>\n",
       "      <td>-10.842267</td>\n",
       "      <td>1.0</td>\n",
       "      <td>0.070520</td>\n",
       "      <td>126.475600</td>\n",
       "      <td>3.800000</td>\n",
       "      <td>0.506067</td>\n",
       "      <td>0.800000</td>\n",
       "    </tr>\n",
       "    <tr>\n",
       "      <th>E</th>\n",
       "      <td>0.427431</td>\n",
       "      <td>0.596769</td>\n",
       "      <td>215449.730769</td>\n",
       "      <td>0.536692</td>\n",
       "      <td>0.082544</td>\n",
       "      <td>4.0</td>\n",
       "      <td>0.179850</td>\n",
       "      <td>-8.921346</td>\n",
       "      <td>1.0</td>\n",
       "      <td>0.078096</td>\n",
       "      <td>124.186846</td>\n",
       "      <td>3.923077</td>\n",
       "      <td>0.568342</td>\n",
       "      <td>0.769231</td>\n",
       "    </tr>\n",
       "    <tr>\n",
       "      <th>F</th>\n",
       "      <td>0.491416</td>\n",
       "      <td>0.568093</td>\n",
       "      <td>211415.465116</td>\n",
       "      <td>0.476479</td>\n",
       "      <td>0.088287</td>\n",
       "      <td>5.0</td>\n",
       "      <td>0.185379</td>\n",
       "      <td>-9.730302</td>\n",
       "      <td>1.0</td>\n",
       "      <td>0.077391</td>\n",
       "      <td>120.740140</td>\n",
       "      <td>3.813953</td>\n",
       "      <td>0.496772</td>\n",
       "      <td>0.627907</td>\n",
       "    </tr>\n",
       "    <tr>\n",
       "      <th>F♯/G♭</th>\n",
       "      <td>0.271011</td>\n",
       "      <td>0.614792</td>\n",
       "      <td>215295.625000</td>\n",
       "      <td>0.711500</td>\n",
       "      <td>0.072810</td>\n",
       "      <td>6.0</td>\n",
       "      <td>0.279033</td>\n",
       "      <td>-6.369250</td>\n",
       "      <td>1.0</td>\n",
       "      <td>0.116958</td>\n",
       "      <td>123.375833</td>\n",
       "      <td>3.958333</td>\n",
       "      <td>0.508996</td>\n",
       "      <td>0.500000</td>\n",
       "    </tr>\n",
       "    <tr>\n",
       "      <th>G</th>\n",
       "      <td>0.321519</td>\n",
       "      <td>0.594207</td>\n",
       "      <td>224330.310345</td>\n",
       "      <td>0.597879</td>\n",
       "      <td>0.102206</td>\n",
       "      <td>7.0</td>\n",
       "      <td>0.218869</td>\n",
       "      <td>-8.472000</td>\n",
       "      <td>1.0</td>\n",
       "      <td>0.096555</td>\n",
       "      <td>120.216466</td>\n",
       "      <td>3.913793</td>\n",
       "      <td>0.502610</td>\n",
       "      <td>0.551724</td>\n",
       "    </tr>\n",
       "    <tr>\n",
       "      <th>G♯/A♭</th>\n",
       "      <td>0.287601</td>\n",
       "      <td>0.596333</td>\n",
       "      <td>213748.357143</td>\n",
       "      <td>0.650033</td>\n",
       "      <td>0.079867</td>\n",
       "      <td>8.0</td>\n",
       "      <td>0.178145</td>\n",
       "      <td>-7.714143</td>\n",
       "      <td>1.0</td>\n",
       "      <td>0.125426</td>\n",
       "      <td>118.542548</td>\n",
       "      <td>3.976190</td>\n",
       "      <td>0.505450</td>\n",
       "      <td>0.452381</td>\n",
       "    </tr>\n",
       "    <tr>\n",
       "      <th rowspan=\"12\" valign=\"top\">Minor</th>\n",
       "      <th>A</th>\n",
       "      <td>0.615137</td>\n",
       "      <td>0.580053</td>\n",
       "      <td>242512.263158</td>\n",
       "      <td>0.472358</td>\n",
       "      <td>0.405784</td>\n",
       "      <td>9.0</td>\n",
       "      <td>0.144889</td>\n",
       "      <td>-11.551105</td>\n",
       "      <td>0.0</td>\n",
       "      <td>0.080637</td>\n",
       "      <td>123.275474</td>\n",
       "      <td>3.894737</td>\n",
       "      <td>0.454189</td>\n",
       "      <td>0.736842</td>\n",
       "    </tr>\n",
       "    <tr>\n",
       "      <th>A♯/B♭</th>\n",
       "      <td>0.278373</td>\n",
       "      <td>0.608000</td>\n",
       "      <td>199441.700000</td>\n",
       "      <td>0.720245</td>\n",
       "      <td>0.051754</td>\n",
       "      <td>10.0</td>\n",
       "      <td>0.224495</td>\n",
       "      <td>-6.887750</td>\n",
       "      <td>0.0</td>\n",
       "      <td>0.126140</td>\n",
       "      <td>121.916400</td>\n",
       "      <td>4.050000</td>\n",
       "      <td>0.496500</td>\n",
       "      <td>0.350000</td>\n",
       "    </tr>\n",
       "    <tr>\n",
       "      <th>B</th>\n",
       "      <td>0.140160</td>\n",
       "      <td>0.703125</td>\n",
       "      <td>206617.458333</td>\n",
       "      <td>0.677333</td>\n",
       "      <td>0.029512</td>\n",
       "      <td>11.0</td>\n",
       "      <td>0.189504</td>\n",
       "      <td>-6.644917</td>\n",
       "      <td>0.0</td>\n",
       "      <td>0.169329</td>\n",
       "      <td>118.933125</td>\n",
       "      <td>4.000000</td>\n",
       "      <td>0.511579</td>\n",
       "      <td>0.375000</td>\n",
       "    </tr>\n",
       "    <tr>\n",
       "      <th>C</th>\n",
       "      <td>0.416216</td>\n",
       "      <td>0.543833</td>\n",
       "      <td>220116.888889</td>\n",
       "      <td>0.516589</td>\n",
       "      <td>0.168339</td>\n",
       "      <td>0.0</td>\n",
       "      <td>0.211311</td>\n",
       "      <td>-10.060500</td>\n",
       "      <td>0.0</td>\n",
       "      <td>0.073267</td>\n",
       "      <td>124.385222</td>\n",
       "      <td>3.888889</td>\n",
       "      <td>0.474444</td>\n",
       "      <td>0.833333</td>\n",
       "    </tr>\n",
       "    <tr>\n",
       "      <th>C♯/D♭</th>\n",
       "      <td>0.227677</td>\n",
       "      <td>0.665667</td>\n",
       "      <td>193425.555556</td>\n",
       "      <td>0.721389</td>\n",
       "      <td>0.102293</td>\n",
       "      <td>1.0</td>\n",
       "      <td>0.238522</td>\n",
       "      <td>-6.536611</td>\n",
       "      <td>0.0</td>\n",
       "      <td>0.152750</td>\n",
       "      <td>120.055556</td>\n",
       "      <td>3.944444</td>\n",
       "      <td>0.489667</td>\n",
       "      <td>0.333333</td>\n",
       "    </tr>\n",
       "    <tr>\n",
       "      <th>D</th>\n",
       "      <td>0.505452</td>\n",
       "      <td>0.483636</td>\n",
       "      <td>191313.272727</td>\n",
       "      <td>0.544900</td>\n",
       "      <td>0.268567</td>\n",
       "      <td>2.0</td>\n",
       "      <td>0.167018</td>\n",
       "      <td>-10.546727</td>\n",
       "      <td>0.0</td>\n",
       "      <td>0.070618</td>\n",
       "      <td>115.929000</td>\n",
       "      <td>4.000000</td>\n",
       "      <td>0.410864</td>\n",
       "      <td>0.727273</td>\n",
       "    </tr>\n",
       "    <tr>\n",
       "      <th>D♯/E♭</th>\n",
       "      <td>0.055290</td>\n",
       "      <td>0.581000</td>\n",
       "      <td>223316.500000</td>\n",
       "      <td>0.574000</td>\n",
       "      <td>0.000576</td>\n",
       "      <td>3.0</td>\n",
       "      <td>0.237500</td>\n",
       "      <td>-8.220500</td>\n",
       "      <td>0.0</td>\n",
       "      <td>0.161500</td>\n",
       "      <td>130.952000</td>\n",
       "      <td>4.000000</td>\n",
       "      <td>0.533500</td>\n",
       "      <td>0.000000</td>\n",
       "    </tr>\n",
       "    <tr>\n",
       "      <th>E</th>\n",
       "      <td>0.349727</td>\n",
       "      <td>0.592682</td>\n",
       "      <td>253872.090909</td>\n",
       "      <td>0.599886</td>\n",
       "      <td>0.060584</td>\n",
       "      <td>4.0</td>\n",
       "      <td>0.287959</td>\n",
       "      <td>-9.227545</td>\n",
       "      <td>0.0</td>\n",
       "      <td>0.139091</td>\n",
       "      <td>111.358727</td>\n",
       "      <td>3.818182</td>\n",
       "      <td>0.434773</td>\n",
       "      <td>0.636364</td>\n",
       "    </tr>\n",
       "    <tr>\n",
       "      <th>F</th>\n",
       "      <td>0.181024</td>\n",
       "      <td>0.660615</td>\n",
       "      <td>234154.423077</td>\n",
       "      <td>0.687312</td>\n",
       "      <td>0.026224</td>\n",
       "      <td>5.0</td>\n",
       "      <td>0.210831</td>\n",
       "      <td>-7.019308</td>\n",
       "      <td>0.0</td>\n",
       "      <td>0.108127</td>\n",
       "      <td>128.228885</td>\n",
       "      <td>3.961538</td>\n",
       "      <td>0.487835</td>\n",
       "      <td>0.538462</td>\n",
       "    </tr>\n",
       "    <tr>\n",
       "      <th>F♯/G♭</th>\n",
       "      <td>0.243341</td>\n",
       "      <td>0.600550</td>\n",
       "      <td>241003.800000</td>\n",
       "      <td>0.633630</td>\n",
       "      <td>0.049544</td>\n",
       "      <td>6.0</td>\n",
       "      <td>0.221745</td>\n",
       "      <td>-8.124850</td>\n",
       "      <td>0.0</td>\n",
       "      <td>0.124860</td>\n",
       "      <td>107.641200</td>\n",
       "      <td>3.800000</td>\n",
       "      <td>0.461600</td>\n",
       "      <td>0.550000</td>\n",
       "    </tr>\n",
       "    <tr>\n",
       "      <th>G</th>\n",
       "      <td>0.127412</td>\n",
       "      <td>0.621000</td>\n",
       "      <td>212610.800000</td>\n",
       "      <td>0.833000</td>\n",
       "      <td>0.046280</td>\n",
       "      <td>7.0</td>\n",
       "      <td>0.195820</td>\n",
       "      <td>-4.398000</td>\n",
       "      <td>0.0</td>\n",
       "      <td>0.041140</td>\n",
       "      <td>110.272200</td>\n",
       "      <td>4.000000</td>\n",
       "      <td>0.489800</td>\n",
       "      <td>0.800000</td>\n",
       "    </tr>\n",
       "    <tr>\n",
       "      <th>G♯/A♭</th>\n",
       "      <td>0.123678</td>\n",
       "      <td>0.596667</td>\n",
       "      <td>205931.333333</td>\n",
       "      <td>0.759222</td>\n",
       "      <td>0.186197</td>\n",
       "      <td>8.0</td>\n",
       "      <td>0.155444</td>\n",
       "      <td>-5.926111</td>\n",
       "      <td>0.0</td>\n",
       "      <td>0.156356</td>\n",
       "      <td>129.901111</td>\n",
       "      <td>4.000000</td>\n",
       "      <td>0.520889</td>\n",
       "      <td>0.222222</td>\n",
       "    </tr>\n",
       "  </tbody>\n",
       "</table>\n",
       "</div>"
      ],
      "text/plain": [
       "                      acousticness  danceability       duration    energy  \\\n",
       "mode_label key_label                                                        \n",
       "Major      A              0.376741      0.579455  219609.490909  0.572311   \n",
       "           A♯/B♭          0.528452      0.570071  215952.392857  0.486182   \n",
       "           B              0.269990      0.654409  223809.318182  0.697682   \n",
       "           C              0.448872      0.581716  209466.652632  0.557456   \n",
       "           C♯/D♭          0.235113      0.622090  232789.567164  0.649715   \n",
       "           D              0.409743      0.577395  221192.654321  0.538420   \n",
       "           D♯/E♭          0.575400      0.544600  254302.266667  0.520273   \n",
       "           E              0.427431      0.596769  215449.730769  0.536692   \n",
       "           F              0.491416      0.568093  211415.465116  0.476479   \n",
       "           F♯/G♭          0.271011      0.614792  215295.625000  0.711500   \n",
       "           G              0.321519      0.594207  224330.310345  0.597879   \n",
       "           G♯/A♭          0.287601      0.596333  213748.357143  0.650033   \n",
       "Minor      A              0.615137      0.580053  242512.263158  0.472358   \n",
       "           A♯/B♭          0.278373      0.608000  199441.700000  0.720245   \n",
       "           B              0.140160      0.703125  206617.458333  0.677333   \n",
       "           C              0.416216      0.543833  220116.888889  0.516589   \n",
       "           C♯/D♭          0.227677      0.665667  193425.555556  0.721389   \n",
       "           D              0.505452      0.483636  191313.272727  0.544900   \n",
       "           D♯/E♭          0.055290      0.581000  223316.500000  0.574000   \n",
       "           E              0.349727      0.592682  253872.090909  0.599886   \n",
       "           F              0.181024      0.660615  234154.423077  0.687312   \n",
       "           F♯/G♭          0.243341      0.600550  241003.800000  0.633630   \n",
       "           G              0.127412      0.621000  212610.800000  0.833000   \n",
       "           G♯/A♭          0.123678      0.596667  205931.333333  0.759222   \n",
       "\n",
       "                      instrumentalness   key  liveness   loudness  mode  \\\n",
       "mode_label key_label                                                      \n",
       "Major      A                  0.089304   9.0  0.168916  -9.152745   1.0   \n",
       "           A♯/B♭              0.104385  10.0  0.219264 -11.903000   1.0   \n",
       "           B                  0.039357  11.0  0.159064  -6.416318   1.0   \n",
       "           C                  0.098556   0.0  0.220966  -8.458179   1.0   \n",
       "           C♯/D♭              0.061132   1.0  0.221554  -6.860313   1.0   \n",
       "           D                  0.143141   2.0  0.183611  -9.734951   1.0   \n",
       "           D♯/E♭              0.151008   3.0  0.169600 -10.842267   1.0   \n",
       "           E                  0.082544   4.0  0.179850  -8.921346   1.0   \n",
       "           F                  0.088287   5.0  0.185379  -9.730302   1.0   \n",
       "           F♯/G♭              0.072810   6.0  0.279033  -6.369250   1.0   \n",
       "           G                  0.102206   7.0  0.218869  -8.472000   1.0   \n",
       "           G♯/A♭              0.079867   8.0  0.178145  -7.714143   1.0   \n",
       "Minor      A                  0.405784   9.0  0.144889 -11.551105   0.0   \n",
       "           A♯/B♭              0.051754  10.0  0.224495  -6.887750   0.0   \n",
       "           B                  0.029512  11.0  0.189504  -6.644917   0.0   \n",
       "           C                  0.168339   0.0  0.211311 -10.060500   0.0   \n",
       "           C♯/D♭              0.102293   1.0  0.238522  -6.536611   0.0   \n",
       "           D                  0.268567   2.0  0.167018 -10.546727   0.0   \n",
       "           D♯/E♭              0.000576   3.0  0.237500  -8.220500   0.0   \n",
       "           E                  0.060584   4.0  0.287959  -9.227545   0.0   \n",
       "           F                  0.026224   5.0  0.210831  -7.019308   0.0   \n",
       "           F♯/G♭              0.049544   6.0  0.221745  -8.124850   0.0   \n",
       "           G                  0.046280   7.0  0.195820  -4.398000   0.0   \n",
       "           G♯/A♭              0.186197   8.0  0.155444  -5.926111   0.0   \n",
       "\n",
       "                      speechiness       tempo  time_signature   valence  \\\n",
       "mode_label key_label                                                      \n",
       "Major      A             0.089802  116.857200        3.945455  0.568369   \n",
       "           A♯/B♭         0.084800  108.755821        3.892857  0.523179   \n",
       "           B             0.097700  115.064818        4.000000  0.518318   \n",
       "           C             0.075215  125.393779        3.831579  0.487062   \n",
       "           C♯/D♭         0.117151  124.568284        3.910448  0.440888   \n",
       "           D             0.079109  118.305802        3.851852  0.507993   \n",
       "           D♯/E♭         0.070520  126.475600        3.800000  0.506067   \n",
       "           E             0.078096  124.186846        3.923077  0.568342   \n",
       "           F             0.077391  120.740140        3.813953  0.496772   \n",
       "           F♯/G♭         0.116958  123.375833        3.958333  0.508996   \n",
       "           G             0.096555  120.216466        3.913793  0.502610   \n",
       "           G♯/A♭         0.125426  118.542548        3.976190  0.505450   \n",
       "Minor      A             0.080637  123.275474        3.894737  0.454189   \n",
       "           A♯/B♭         0.126140  121.916400        4.050000  0.496500   \n",
       "           B             0.169329  118.933125        4.000000  0.511579   \n",
       "           C             0.073267  124.385222        3.888889  0.474444   \n",
       "           C♯/D♭         0.152750  120.055556        3.944444  0.489667   \n",
       "           D             0.070618  115.929000        4.000000  0.410864   \n",
       "           D♯/E♭         0.161500  130.952000        4.000000  0.533500   \n",
       "           E             0.139091  111.358727        3.818182  0.434773   \n",
       "           F             0.108127  128.228885        3.961538  0.487835   \n",
       "           F♯/G♭         0.124860  107.641200        3.800000  0.461600   \n",
       "           G             0.041140  110.272200        4.000000  0.489800   \n",
       "           G♯/A♭         0.156356  129.901111        4.000000  0.520889   \n",
       "\n",
       "                         label  \n",
       "mode_label key_label            \n",
       "Major      A          0.709091  \n",
       "           A♯/B♭      0.785714  \n",
       "           B          0.500000  \n",
       "           C          0.757895  \n",
       "           C♯/D♭      0.388060  \n",
       "           D          0.691358  \n",
       "           D♯/E♭      0.800000  \n",
       "           E          0.769231  \n",
       "           F          0.627907  \n",
       "           F♯/G♭      0.500000  \n",
       "           G          0.551724  \n",
       "           G♯/A♭      0.452381  \n",
       "Minor      A          0.736842  \n",
       "           A♯/B♭      0.350000  \n",
       "           B          0.375000  \n",
       "           C          0.833333  \n",
       "           C♯/D♭      0.333333  \n",
       "           D          0.727273  \n",
       "           D♯/E♭      0.000000  \n",
       "           E          0.636364  \n",
       "           F          0.538462  \n",
       "           F♯/G♭      0.550000  \n",
       "           G          0.800000  \n",
       "           G♯/A♭      0.222222  "
      ]
     },
     "execution_count": 45,
     "metadata": {},
     "output_type": "execute_result"
    }
   ],
   "source": [
    "emotions_df = df.groupby([\"mode_label\", \"key_label\"]).agg(\"mean\")\n",
    "emotions_df"
   ]
  },
  {
   "cell_type": "code",
   "execution_count": 46,
   "metadata": {},
   "outputs": [
    {
     "data": {
      "image/png": "[encoded data removed]",
      "text/plain": [
       "<Figure size 1000x800 with 2 Axes>"
      ]
     },
     "metadata": {},
     "output_type": "display_data"
    }
   ],
   "source": [
    "# Pivot the DataFrame for the heatmap\n",
    "pivot_df = emotions_df.pivot_table(index='key_label', columns='mode_label', values='energy')\n",
    "\n",
    "# Create the heatmap\n",
    "plt.figure(figsize=(10, 8))\n",
    "sns.heatmap(pivot_df, annot=True, cmap='coolwarm', center=0.5)\n",
    "plt.title('Heatmap of Mean Energy by Key and Mode', fontsize=16, fontweight='bold')\n",
    "plt.xlabel('Mode')\n",
    "plt.ylabel('Musical Key')\n",
    "plt.show()\n"
   ]
  },
  {
   "cell_type": "code",
   "execution_count": 47,
   "metadata": {},
   "outputs": [
    {
     "name": "stderr",
     "output_type": "stream",
     "text": [
      "/var/folders/zy/0qz97zt97vj07vpx_gz3j8qh0000gn/T/ipykernel_4583/2496763827.py:3: FutureWarning:\n",
      "\n",
      "\n",
      "\n",
      "Passing `palette` without assigning `hue` is deprecated and will be removed in v0.14.0. Assign the `x` variable to `hue` and set `legend=False` for the same effect.\n",
      "\n",
      "\n"
     ]
    },
    {
     "data": {
      "image/png": "[encoded data removed]",
      "text/plain": [
       "<Figure size 1400x800 with 1 Axes>"
      ]
     },
     "metadata": {},
     "output_type": "display_data"
    }
   ],
   "source": [
    "# Boxplot of energy distribution across different keys\n",
    "plt.figure(figsize=(14, 8))\n",
    "sns.boxplot(data=df, x='key_label', y='energy', palette='viridis')\n",
    "plt.title('Energy Distribution Across Different Musical Keys', fontsize=16, fontweight='bold')\n",
    "plt.xlabel('Musical Key')\n",
    "plt.ylabel('Energy')\n",
    "plt.xticks(rotation=45)\n",
    "plt.show()\n"
   ]
  }
 ],
 "metadata": {
  "kernelspec": {
   "display_name": "michelle-workspace-BjDhu_Ql-py3.12",
   "language": "python",
   "name": "python3"
  },
  "language_info": {
   "codemirror_mode": {
    "name": "ipython",
    "version": 3
   },
   "file_extension": ".py",
   "mimetype": "text/x-python",
   "name": "python",
   "nbconvert_exporter": "python",
   "pygments_lexer": "ipython3",
   "version": "3.12.5"
  }
 },
 "nbformat": 4,
 "nbformat_minor": 2
}
